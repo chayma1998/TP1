{
 "cells": [
  {
   "cell_type": "markdown",
   "id": "ecbfe161",
   "metadata": {},
   "source": [
    "Exerice 1:\n"
   ]
  },
  {
   "cell_type": "markdown",
   "id": "6e8620b6",
   "metadata": {},
   "source": [
    "Soit la fonction f définie par : $$f: x\\to x^2+2x+1$$"
   ]
  },
  {
   "cell_type": "markdown",
   "id": "cbf66f68",
   "metadata": {},
   "source": [
    "Pour définir cette fonction f (polynome p(x)) en Python, on tape:"
   ]
  },
  {
   "cell_type": "code",
   "execution_count": 1,
   "id": "6fa6034b",
   "metadata": {},
   "outputs": [],
   "source": [
    "def p(x):\n",
    "    \n",
    "    return x**2+2*x+1"
   ]
  },
  {
   "cell_type": "markdown",
   "id": "e496392a",
   "metadata": {},
   "source": [
    "Pour calculer le produit de deux nombres en Python, on utilise la fonction prod() :"
   ]
  },
  {
   "cell_type": "code",
   "execution_count": null,
   "id": "769c9fde",
   "metadata": {},
   "outputs": [],
   "source": [
    "def prod(x,y):\n",
    "    \n",
    "    return x*y"
   ]
  },
  {
   "cell_type": "markdown",
   "id": "a8556a29",
   "metadata": {},
   "source": [
    "Exemple :"
   ]
  },
  {
   "cell_type": "code",
   "execution_count": 3,
   "id": "68f15ab7",
   "metadata": {},
   "outputs": [
    {
     "data": {
      "text/plain": [
       "30"
      ]
     },
     "execution_count": 3,
     "metadata": {},
     "output_type": "execute_result"
    }
   ],
   "source": [
    "prod(5,6)"
   ]
  },
  {
   "cell_type": "markdown",
   "id": "0df05f9d",
   "metadata": {},
   "source": [
    "Pour effectuer la somme de deux nombres:"
   ]
  },
  {
   "cell_type": "code",
   "execution_count": 4,
   "id": "274829b3",
   "metadata": {},
   "outputs": [],
   "source": [
    "somme=lambda x,y,z: x+y+z"
   ]
  },
  {
   "cell_type": "code",
   "execution_count": 5,
   "id": "b9b0cd0c",
   "metadata": {},
   "outputs": [
    {
     "name": "stdout",
     "output_type": "stream",
     "text": [
      "27\n",
      "0\n"
     ]
    }
   ],
   "source": [
    "print(somme(12,12,3))\n",
    "\n",
    "print(somme(0,0,0))"
   ]
  },
  {
   "cell_type": "code",
   "execution_count": 6,
   "id": "e092a6f4",
   "metadata": {},
   "outputs": [
    {
     "name": "stdout",
     "output_type": "stream",
     "text": [
      "12\n",
      "hello world\n"
     ]
    }
   ],
   "source": [
    "print(somme(1,1,10))\n",
    "print('hello world')"
   ]
  },
  {
   "cell_type": "code",
   "execution_count": 7,
   "id": "5dfcca9f",
   "metadata": {},
   "outputs": [],
   "source": [
    "x='chaine'\n",
    "x1='azert'\n",
    "y=12\n",
    "z=12.3\n",
    "t=1+2j"
   ]
  },
  {
   "cell_type": "markdown",
   "id": "43a366ff",
   "metadata": {},
   "source": [
    "Soit la lsite suivante:"
   ]
  },
  {
   "cell_type": "code",
   "execution_count": 8,
   "id": "e45fa23e",
   "metadata": {},
   "outputs": [],
   "source": [
    "T=[11,21,312,421,511,1,2,3,4,5,6,11,21,312,421,511,1,2,3,4]\n",
    "M=[1,2,3]\n",
    "L=[0,1]\n",
    "M[1]=-1"
   ]
  },
  {
   "cell_type": "markdown",
   "id": "10ddab41",
   "metadata": {},
   "source": [
    "Pour renverser la liste, on tape:"
   ]
  },
  {
   "cell_type": "code",
   "execution_count": 9,
   "id": "dbc8d1b3",
   "metadata": {},
   "outputs": [
    {
     "data": {
      "text/plain": [
       "[4, 3, 2, 1, 511, 421, 312, 21, 11, 6, 5, 4, 3, 2, 1, 511, 421, 312, 21, 11]"
      ]
     },
     "execution_count": 9,
     "metadata": {},
     "output_type": "execute_result"
    }
   ],
   "source": [
    "T[::-1]"
   ]
  },
  {
   "cell_type": "markdown",
   "id": "55c11ee9",
   "metadata": {},
   "source": [
    "Pour répeter 'Hello World' , on met 'print' à l'intérieur de la boucle 'for', et on utilise 'range(10)' pour répeter le message 10 fois :"
   ]
  },
  {
   "cell_type": "code",
   "execution_count": 10,
   "id": "556752a4",
   "metadata": {},
   "outputs": [
    {
     "name": "stdout",
     "output_type": "stream",
     "text": [
      "hello world\n",
      "hello world\n",
      "hello world\n",
      "hello world\n",
      "hello world\n",
      "hello world\n",
      "hello world\n",
      "hello world\n",
      "hello world\n",
      "hello world\n",
      "?????????\n"
     ]
    }
   ],
   "source": [
    "for i in range(10):\n",
    "    print('hello world')\n",
    "print('?????????') "
   ]
  },
  {
   "cell_type": "markdown",
   "id": "72b73ef5",
   "metadata": {},
   "source": [
    "Pour mettre une chaine de caractères dans une liste, on utilise la fonction 'list':"
   ]
  },
  {
   "cell_type": "code",
   "execution_count": 11,
   "id": "be58e9d5",
   "metadata": {},
   "outputs": [
    {
     "data": {
      "text/plain": [
       "['a',\n",
       " 'b',\n",
       " 'c',\n",
       " 'd',\n",
       " 'e',\n",
       " 'f',\n",
       " 'g',\n",
       " 'h',\n",
       " 'i',\n",
       " 'j',\n",
       " 'k',\n",
       " 'l',\n",
       " 'm',\n",
       " 'n',\n",
       " 'o',\n",
       " 'p',\n",
       " 'q',\n",
       " 'r',\n",
       " 's',\n",
       " 't',\n",
       " 'u',\n",
       " 'v',\n",
       " 'w',\n",
       " 'x',\n",
       " 'y',\n",
       " 'z']"
      ]
     },
     "execution_count": 11,
     "metadata": {},
     "output_type": "execute_result"
    }
   ],
   "source": [
    "x=list('abcdefghijklmnopqrstuvwxyz')\n",
    "x"
   ]
  },
  {
   "cell_type": "markdown",
   "id": "42d6a896",
   "metadata": {},
   "source": [
    "Soient x et y deux chaines de caractères, on va collecter à chaque fois un caractere de x avec un autre de y pour créer des chaines de caractères à deux caractéres:"
   ]
  },
  {
   "cell_type": "code",
   "execution_count": 12,
   "id": "4c4cbae7",
   "metadata": {},
   "outputs": [
    {
     "name": "stdout",
     "output_type": "stream",
     "text": [
      "ap\n",
      "ao\n",
      "ai\n",
      "bp\n",
      "bo\n",
      "bi\n",
      "cp\n",
      "co\n",
      "ci\n",
      "dp\n",
      "do\n",
      "di\n",
      "ep\n",
      "eo\n",
      "ei\n"
     ]
    }
   ],
   "source": [
    "x='abcde'\n",
    "y='poi'\n",
    "for i in x:\n",
    "    for j in y:\n",
    "        print(i+j)"
   ]
  },
  {
   "cell_type": "code",
   "execution_count": 13,
   "id": "f5ecac10",
   "metadata": {},
   "outputs": [
    {
     "name": "stdout",
     "output_type": "stream",
     "text": [
      "2\n",
      "-----\n",
      "3\n",
      "-----\n",
      "4\n",
      "-----\n",
      "3\n",
      "-----\n",
      "4\n",
      "-----\n",
      "5\n",
      "-----\n",
      "4\n",
      "-----\n",
      "5\n",
      "-----\n",
      "6\n",
      "-----\n"
     ]
    }
   ],
   "source": [
    "for x in [1,2,3]:\n",
    "    for y in [1,2,3]:\n",
    "        print(x+y)\n",
    "        print('-----')"
   ]
  },
  {
   "cell_type": "markdown",
   "id": "8c9b10d1",
   "metadata": {},
   "source": [
    "Dans le code précedent, on a fait la somme de chaque élément de la liste x avec chacun de celle de y."
   ]
  },
  {
   "cell_type": "markdown",
   "id": "f8ec0113",
   "metadata": {},
   "source": [
    "Pour définir une fonction qui contient des puissances, on utilise '**':"
   ]
  },
  {
   "cell_type": "code",
   "execution_count": 14,
   "id": "0e013979",
   "metadata": {},
   "outputs": [],
   "source": [
    "def p1(x):\n",
    "    return (x-1)**6 # ** puissance \n",
    "def p2(x):\n",
    "    return x**6 - 6*x**5 + 15*x**4 - 20*x**3 + 15*x**2 - 6*x + 1"
   ]
  },
  {
   "cell_type": "code",
   "execution_count": 15,
   "id": "627eee28",
   "metadata": {},
   "outputs": [
    {
     "data": {
      "text/plain": [
       "<function __main__.p1(x)>"
      ]
     },
     "execution_count": 15,
     "metadata": {},
     "output_type": "execute_result"
    }
   ],
   "source": [
    "p1"
   ]
  },
  {
   "cell_type": "code",
   "execution_count": 16,
   "id": "75bf22c9",
   "metadata": {},
   "outputs": [
    {
     "name": "stdout",
     "output_type": "stream",
     "text": [
      "p1(0.998)=6.400000000000034e-17 \n",
      "p2(0.998)=1.7763568394002505e-15 \n"
     ]
    }
   ],
   "source": [
    "# le calcul de p1(0.998)\n",
    "print('p1({})={} '.format(0.998,p1(0.998)))\n",
    "# le calcul de p2(0.998)\n",
    "print('p2({})={} '.format(0.998,p2(0.998)))"
   ]
  },
  {
   "cell_type": "code",
   "execution_count": 17,
   "id": "3fab6bc4",
   "metadata": {},
   "outputs": [
    {
     "data": {
      "text/plain": [
       "64"
      ]
     },
     "execution_count": 17,
     "metadata": {},
     "output_type": "execute_result"
    }
   ],
   "source": [
    "p2(3)"
   ]
  },
  {
   "cell_type": "markdown",
   "id": "049866f3",
   "metadata": {},
   "source": [
    "---"
   ]
  },
  {
   "cell_type": "markdown",
   "id": "6a33f301",
   "metadata": {},
   "source": [
    "Exercice 2:"
   ]
  },
  {
   "cell_type": "markdown",
   "id": "e3742233",
   "metadata": {},
   "source": [
    "On considère l'équation : $$ f(x)=x^3+x^2-3x-3=0$$"
   ]
  },
  {
   "cell_type": "markdown",
   "id": "6ffbe0ef",
   "metadata": {},
   "source": [
    "Pour tracer le courbe de f dans l'intervalle [-2:2], on utilise des bibliothèques telles que 'matplotlib' et 'numpy':  "
   ]
  },
  {
   "cell_type": "code",
   "execution_count": 20,
   "id": "fa28b68a",
   "metadata": {},
   "outputs": [
    {
     "data": {
      "text/plain": [
       "[<matplotlib.lines.Line2D at 0x2a1d52b6648>]"
      ]
     },
     "execution_count": 20,
     "metadata": {},
     "output_type": "execute_result"
    },
    {
     "data": {
      "image/png": "[encoded data removed]",
      "text/plain": [
       "<Figure size 432x288 with 1 Axes>"
      ]
     },
     "metadata": {
      "needs_background": "light"
     },
     "output_type": "display_data"
    }
   ],
   "source": [
    "import matplotlib.pyplot as plt\n",
    "from numpy import linspace\n",
    "f=lambda x: x**3+x**2-3*x-3\n",
    "T=linspace(-2,2,41)\n",
    "plt.title(\"solution dans [-2:2] \");\n",
    "plt.xlabel(\"x\")\n",
    "plt.ylabel (\"f(x)\")\n",
    "plt.grid(True)\n",
    "plt.plot(T,f(T))"
   ]
  },
  {
   "cell_type": "markdown",
   "id": "6e040e90",
   "metadata": {},
   "source": [
    "Daprés le graph de  𝑓  il existe 3 solutions :\n",
    "𝛼1∈]−2;−1.5[\n",
    "𝛼2∈]−1.5;−0.5[\n",
    "𝛼3∈]1.5;2["
   ]
  },
  {
   "cell_type": "markdown",
   "id": "b0e2074e",
   "metadata": {},
   "source": [
    "---\n"
   ]
  },
  {
   "cell_type": "markdown",
   "id": "673466cf",
   "metadata": {},
   "source": [
    "L'implémentation de la méthode de la dichotomie:"
   ]
  },
  {
   "cell_type": "code",
   "execution_count": 36,
   "id": "72cb0490",
   "metadata": {},
   "outputs": [],
   "source": [
    "def dicho(a,b,f,n):\n",
    "    '''version itérative '''\n",
    "    pass"
   ]
  },
  {
   "cell_type": "code",
   "execution_count": 37,
   "id": "2e145eec",
   "metadata": {},
   "outputs": [
    {
     "name": "stdout",
     "output_type": "stream",
     "text": [
      "None\n"
     ]
    }
   ],
   "source": [
    "x3= dicho(-2,-1.5,f,10)\n",
    "#x10=dicho(-2,-1.5,f,10)\n",
    "#x20=dicho(-2,-1.5,f,20)\n",
    "#print(x3,x10,x20)\n",
    "print(x3)\n"
   ]
  },
  {
   "cell_type": "markdown",
   "id": "8269930b",
   "metadata": {},
   "source": [
    "Voici une façon de mettre en oeuvre la méthode dans laquelle :\n",
    "— la fonction dicho prend en argument le nom d’une fonction f et l’intervalle [a, b] dans\n",
    "lequel chercher un zéro,\n",
    "— on utilise une fonction sign pour calculer le signe (1, −1, 0) d’une valeur,\n",
    "— on utilise l’estimation (7.3) comme condition d’arret,\n",
    "— on fixe une limite de 200 it´erations,\n",
    "— on imprime un avertissement si on est 'loin' d’un zéro."
   ]
  },
  {
   "cell_type": "code",
   "execution_count": 30,
   "id": "ef87d602",
   "metadata": {},
   "outputs": [],
   "source": [
    "def dicho(f,a,b):\n",
    "    \n",
    "    prec=2**-52\n",
    "    eps=10e-6\n",
    "    nitmax=200\n",
    "    fa=f(a)\n",
    "    fb=f(b)\n",
    "    fm=f((a+b)/2)\n",
    "    assert sign(fa)*sign(fb)<0\n",
    "    nit=0\n",
    "    while ((b-a)/(a+b)>prec and nit<nitmax):\n",
    "        \n",
    "        m=(a+b)/2\n",
    "        fm=f(m)\n",
    "        if fm==0:\n",
    "            \n",
    "            return (m,nit)\n",
    "        elif sign(fa)*sign(fm)<0:\n",
    "            \n",
    "            b,fb=m,fm\n",
    "        else:\n",
    "            \n",
    "            a,fa=m,fm\n",
    "        nit=nit+1\n",
    "    if abs(fm)>eps:\n",
    "        \n",
    "        print('warning')\n",
    "    return ((a+b)/2,nit)\n"
   ]
  },
  {
   "cell_type": "markdown",
   "id": "19236402",
   "metadata": {},
   "source": [
    "\n",
    "print('f(x10)={},f(x20)={}'.format(f(x10),f(x20)))\n"
   ]
  },
  {
   "cell_type": "markdown",
   "id": "685f28a9",
   "metadata": {},
   "source": [
    "f(x10)=0.0002971846843138337,f(x20)=9.857414049463387e-07\n"
   ]
  },
  {
   "cell_type": "code",
   "execution_count": 39,
   "id": "c6f5876a",
   "metadata": {},
   "outputs": [],
   "source": [
    "def dichow(a,b,f,eps):\n",
    "    \"\"\"version tant que qui renvoila solution avec le nombre d'''itération \"\"\"\n",
    "    pass"
   ]
  },
  {
   "cell_type": "markdown",
   "id": "4e37b814",
   "metadata": {},
   "source": [
    "𝛼1∈]−2;−1.5[ \n",
    "𝛼2∈]−1.5;−0.5[ \n",
    "𝛼3∈]1.5;2["
   ]
  },
  {
   "cell_type": "code",
   "execution_count": 40,
   "id": "f1a87af6",
   "metadata": {},
   "outputs": [],
   "source": [
    "dichow(-2,-1.5,f,0.0001)"
   ]
  },
  {
   "cell_type": "code",
   "execution_count": 41,
   "id": "789c5df8",
   "metadata": {},
   "outputs": [
    {
     "data": {
      "text/plain": [
       "3.0"
      ]
     },
     "execution_count": 41,
     "metadata": {},
     "output_type": "execute_result"
    }
   ],
   "source": [
    "import numpy as np\n",
    "np.floor(2.3)\n",
    "np.ceil(2.3)"
   ]
  },
  {
   "cell_type": "code",
   "execution_count": 42,
   "id": "ab9aefa0",
   "metadata": {},
   "outputs": [],
   "source": [
    "import numpy as np\n",
    "a=-1.5\n",
    "b=-0.5\n",
    "p=8 # précision à 10 ^-8 prés\n",
    "dichow(a,b,f,10**(-p))\n",
    "#à 10^-8"
   ]
  },
  {
   "cell_type": "code",
   "execution_count": 43,
   "id": "51e81ea1",
   "metadata": {},
   "outputs": [
    {
     "name": "stdout",
     "output_type": "stream",
     "text": [
      "None\n",
      "None\n",
      "None\n",
      "None\n",
      "None\n",
      "None\n"
     ]
    }
   ],
   "source": [
    "interval=[[-2,-1.5],[-1.5,-0.5],[1.5,2]]\n",
    "for u in interval:\n",
    "    print(dichow(u[0],u[1],f,10**(-3)))\n",
    "################################################   \n",
    "print(dichow(-2,-1.5,f,10**(-3)))\n",
    "print(dichow(-1.5,-0.5,f,10**(-3)))\n",
    "print(dichow(1.5,2,f,10**(-3)))"
   ]
  },
  {
   "cell_type": "markdown",
   "id": "c05307c9",
   "metadata": {},
   "source": [
    "Le nombre d'itération N nécéssaire à la méthode de la dichotomie pour trouver $\\alpha$ à $10^{-p}$ prés \n",
    "\n",
    "$$N \\geq E\\left(\\dfrac{\\ln(b-a)+p\\ln(10)}{\\ln(2)}\\right)+1$$"
   ]
  },
  {
   "cell_type": "code",
   "execution_count": 48,
   "id": "adfab490",
   "metadata": {},
   "outputs": [
    {
     "data": {
      "text/plain": [
       "5"
      ]
     },
     "execution_count": 48,
     "metadata": {},
     "output_type": "execute_result"
    }
   ],
   "source": [
    "ND= lambda p:5\n",
    "a=-2\n",
    "b=-1.5\n",
    "ND(5)"
   ]
  },
  {
   "cell_type": "markdown",
   "id": "937f145c",
   "metadata": {},
   "source": [
    "ND est une fonction qui permet de renvoyer le nombre d'itération nécessaire à la méthode de dichotomie pour calculer la solution à 10^-p près"
   ]
  },
  {
   "cell_type": "code",
   "execution_count": 46,
   "id": "3f8ff5d7",
   "metadata": {},
   "outputs": [],
   "source": [
    "dichow(-2,-1.5,f,10**(-5))\n"
   ]
  },
  {
   "cell_type": "code",
   "execution_count": 47,
   "id": "42f54fa5",
   "metadata": {},
   "outputs": [],
   "source": [
    "dichow(-1.51,-0.5,f,10**(-5))\n"
   ]
  },
  {
   "cell_type": "markdown",
   "id": "c1e02893",
   "metadata": {},
   "source": [
    "Méthode graphique pour la recherche de la solution \n"
   ]
  },
  {
   "cell_type": "code",
   "execution_count": 49,
   "id": "e2808bd8",
   "metadata": {},
   "outputs": [
    {
     "data": {
      "image/png": "[encoded data removed]",
      "text/plain": [
       "<Figure size 432x288 with 4 Axes>"
      ]
     },
     "metadata": {
      "needs_background": "light"
     },
     "output_type": "display_data"
    }
   ],
   "source": [
    "%matplotlib inline\n",
    "#import mpld3\n",
    "#mpld3.enable_notebook()\n",
    "import numpy as np \n",
    "import matplotlib.pyplot as plt\n",
    "\n",
    "f=lambda x:x**3+x**2-3*x-3\n",
    "\n",
    "t=np.linspace(1.7,1.75,100)\n",
    "plt.subplot(2,2,1)\n",
    "plt.plot(t,f(t),'r')\n",
    "plt.grid(True)\n",
    "##########################################\n",
    "t=np.linspace(1.2,1.4,100)\n",
    "plt.subplot(2,2,2)\n",
    "plt.plot(t,f(t),'r')\n",
    "plt.grid(True)\n",
    "##########################################\n",
    "t=np.linspace(1.35,1.4,100)\n",
    "plt.subplot(2,2,3)\n",
    "plt.plot(t,f(t),'r')\n",
    "plt.grid(True)\n",
    "#########################################\n",
    "t=np.linspace(1.365,1.367,100)\n",
    "plt.subplot(2,2,4)\n",
    "plt.plot(t,f(t),'r')\n",
    "plt.grid(True)"
   ]
  },
  {
   "cell_type": "markdown",
   "id": "66b31341",
   "metadata": {},
   "source": [
    "---"
   ]
  },
  {
   "cell_type": "markdown",
   "id": "f99003f7",
   "metadata": {},
   "source": [
    "Exercice 3 :"
   ]
  },
  {
   "cell_type": "markdown",
   "id": "194f6488",
   "metadata": {},
   "source": [
    ">On considère l'équation : $$ f(x)=x^3+4x^2-10=0$$\n"
   ]
  },
  {
   "cell_type": "code",
   "execution_count": 50,
   "id": "9a6b5a51",
   "metadata": {},
   "outputs": [
    {
     "data": {
      "image/png": "[encoded data removed]",
      "text/plain": [
       "<Figure size 432x288 with 4 Axes>"
      ]
     },
     "metadata": {
      "needs_background": "light"
     },
     "output_type": "display_data"
    }
   ],
   "source": [
    "%matplotlib inline\n",
    "#import mpld3\n",
    "#mpld3.enable_notebook()\n",
    "import numpy as np \n",
    "import matplotlib.pyplot as plt\n",
    "\n",
    "f=lambda x:x**3+4*x**2-10\n",
    "\n",
    "t=np.linspace(1,2,100)\n",
    "plt.subplot(2,2,1)\n",
    "plt.plot(t,f(t),'r')\n",
    "plt.grid(True)\n",
    "##########################################\n",
    "t=np.linspace(1.2,1.4,100)\n",
    "plt.subplot(2,2,2)\n",
    "plt.plot(t,f(t),'r')\n",
    "plt.grid(True)\n",
    "##########################################\n",
    "t=np.linspace(1.35,1.4,100)\n",
    "plt.subplot(2,2,3)\n",
    "plt.plot(t,f(t),'r')\n",
    "plt.grid(True)\n",
    "#########################################\n",
    "t=np.linspace(1.365,1.367,100)\n",
    "plt.subplot(2,2,4)\n",
    "plt.plot(t,f(t),'r')\n",
    "plt.grid(True)"
   ]
  },
  {
   "cell_type": "markdown",
   "id": "dc8200c9",
   "metadata": {},
   "source": [
    "#### 2) Justification théorique pour la fonction g1"
   ]
  },
  {
   "cell_type": "markdown",
   "id": "3e78ca1f",
   "metadata": {},
   "source": [
    "On considère l'équation : $$ f(x)=x^3+4x^2-10=0$$\n",
    "\n",
    "a) $g(x)=\\frac{1}{2}\\sqrt{10-x^3}=x$."
   ]
  },
  {
   "cell_type": "markdown",
   "id": "95f04d17",
   "metadata": {},
   "source": [
    "$$x^3+4x^2-10=0$$ \n",
    "    \n",
    " $$4x^2=10-x^3$$\n",
    " \n",
    " $$2x=\\sqrt{10-x^3}$$\n",
    " \n",
    " $$x=\\frac{1}{2}\\sqrt{10-x^3}$$\n",
    " \n",
    "Donc $ f(x)=g(x)$"
   ]
  },
  {
   "cell_type": "markdown",
   "id": "879691c0",
   "metadata": {},
   "source": [
    "### Calcul symbolique de la dérivée\n"
   ]
  },
  {
   "cell_type": "code",
   "execution_count": 54,
   "id": "5ad8359f",
   "metadata": {},
   "outputs": [
    {
     "ename": "ModuleNotFoundError",
     "evalue": "No module named 'sympy'",
     "output_type": "error",
     "traceback": [
      "\u001b[1;31m---------------------------------------------------------------------------\u001b[0m",
      "\u001b[1;31mModuleNotFoundError\u001b[0m                       Traceback (most recent call last)",
      "\u001b[1;32m~\\AppData\\Local\\Temp/ipykernel_12152/3072784064.py\u001b[0m in \u001b[0;36m<module>\u001b[1;34m\u001b[0m\n\u001b[1;32m----> 1\u001b[1;33m \u001b[1;32mfrom\u001b[0m \u001b[0msympy\u001b[0m \u001b[1;32mimport\u001b[0m \u001b[1;33m*\u001b[0m\u001b[1;33m\u001b[0m\u001b[1;33m\u001b[0m\u001b[0m\n\u001b[0m\u001b[0;32m      2\u001b[0m \u001b[1;32mimport\u001b[0m \u001b[0mnumpy\u001b[0m \u001b[1;32mas\u001b[0m \u001b[0mnp\u001b[0m\u001b[1;33m\u001b[0m\u001b[1;33m\u001b[0m\u001b[0m\n\u001b[0;32m      3\u001b[0m \u001b[0mx\u001b[0m\u001b[1;33m,\u001b[0m \u001b[0my\u001b[0m\u001b[1;33m,\u001b[0m \u001b[0mz\u001b[0m \u001b[1;33m=\u001b[0m \u001b[0msymbols\u001b[0m\u001b[1;33m(\u001b[0m\u001b[1;34m'x y z'\u001b[0m\u001b[1;33m)\u001b[0m\u001b[1;33m\u001b[0m\u001b[1;33m\u001b[0m\u001b[0m\n\u001b[0;32m      4\u001b[0m \u001b[0minit_printing\u001b[0m\u001b[1;33m(\u001b[0m\u001b[0muse_unicode\u001b[0m\u001b[1;33m=\u001b[0m\u001b[1;32mTrue\u001b[0m\u001b[1;33m)\u001b[0m\u001b[1;33m\u001b[0m\u001b[1;33m\u001b[0m\u001b[0m\n\u001b[0;32m      5\u001b[0m \u001b[0mg1\u001b[0m\u001b[1;33m=\u001b[0m\u001b[1;32mlambda\u001b[0m \u001b[0mx\u001b[0m\u001b[1;33m:\u001b[0m \u001b[1;36m1\u001b[0m\u001b[1;33m/\u001b[0m\u001b[1;36m2\u001b[0m\u001b[1;33m*\u001b[0m\u001b[0msqrt\u001b[0m\u001b[1;33m(\u001b[0m\u001b[1;36m10\u001b[0m\u001b[1;33m-\u001b[0m\u001b[0mx\u001b[0m\u001b[1;33m**\u001b[0m\u001b[1;36m3\u001b[0m\u001b[1;33m)\u001b[0m\u001b[1;33m\u001b[0m\u001b[1;33m\u001b[0m\u001b[0m\n",
      "\u001b[1;31mModuleNotFoundError\u001b[0m: No module named 'sympy'"
     ]
    }
   ],
   "source": [
    "from sympy import *\n",
    "import numpy as np\n",
    "x, y, z = symbols('x y z')\n",
    "init_printing(use_unicode=True)\n",
    "g1=lambda x: 1/2*sqrt(10-x**3)\n"
   ]
  },
  {
   "cell_type": "code",
   "execution_count": 55,
   "id": "93f1f2ea",
   "metadata": {},
   "outputs": [
    {
     "ename": "NameError",
     "evalue": "name 'lambdify' is not defined",
     "output_type": "error",
     "traceback": [
      "\u001b[1;31m---------------------------------------------------------------------------\u001b[0m",
      "\u001b[1;31mNameError\u001b[0m                                 Traceback (most recent call last)",
      "\u001b[1;32m~\\AppData\\Local\\Temp/ipykernel_12152/1255320021.py\u001b[0m in \u001b[0;36m<module>\u001b[1;34m\u001b[0m\n\u001b[1;32m----> 1\u001b[1;33m \u001b[0mdg1\u001b[0m\u001b[1;33m=\u001b[0m\u001b[0mlambdify\u001b[0m\u001b[1;33m(\u001b[0m\u001b[0mx\u001b[0m\u001b[1;33m,\u001b[0m\u001b[0mdiff\u001b[0m\u001b[1;33m(\u001b[0m\u001b[0mg1\u001b[0m\u001b[1;33m(\u001b[0m\u001b[0mx\u001b[0m\u001b[1;33m)\u001b[0m\u001b[1;33m,\u001b[0m\u001b[0mx\u001b[0m\u001b[1;33m,\u001b[0m\u001b[1;36m1\u001b[0m\u001b[1;33m)\u001b[0m\u001b[1;33m)\u001b[0m\u001b[1;33m\u001b[0m\u001b[1;33m\u001b[0m\u001b[0m\n\u001b[0m\u001b[0;32m      2\u001b[0m \u001b[0mdg1\u001b[0m\u001b[1;33m(\u001b[0m\u001b[1;36m1.365\u001b[0m\u001b[1;33m)\u001b[0m\u001b[1;33m\u001b[0m\u001b[1;33m\u001b[0m\u001b[0m\n",
      "\u001b[1;31mNameError\u001b[0m: name 'lambdify' is not defined"
     ]
    }
   ],
   "source": [
    "dg1=lambdify(x,diff(g1(x),x,1))\n",
    "dg1(1.365)"
   ]
  },
  {
   "cell_type": "markdown",
   "id": "4416ce51",
   "metadata": {},
   "source": [
    "## Justification théoriques pour g2 et g3"
   ]
  },
  {
   "cell_type": "markdown",
   "id": "acf1051c",
   "metadata": {},
   "source": [
    "On considère l'équation : $$ f(x)=x^3+4x^2-10=0$$\n",
    "\n",
    "b) $g(x)=\\sqrt{\\displaystyle\\frac{10}{4+x}}=x$."
   ]
  },
  {
   "cell_type": "markdown",
   "id": "0098730c",
   "metadata": {},
   "source": [
    "$$x^3+4x^2-10=0$$\n",
    "$$x^3+4x^2=10$$\n",
    "$$x^2(x+4)=10$$\n",
    "$$x^2=\\frac{10}{x+4}$$\n",
    "$$x=\\sqrt{\\displaystyle\\frac{10}{4+x}}$$\n",
    "Donc $ f(x)=g(x)$"
   ]
  },
  {
   "cell_type": "markdown",
   "id": "f6e728b6",
   "metadata": {},
   "source": [
    "On considère l'équation : $$ f(x)=x^3+4x^2-10=0$$\n",
    "c) $g(x)=x-x^3-4x^2+10=x$."
   ]
  },
  {
   "cell_type": "markdown",
   "id": "0fe694ad",
   "metadata": {},
   "source": [
    "$$x^3+4x^2-10=0$$\n",
    "$$x^3+4x^2-10+x-x=0$$\n",
    "$$x^3-4x^2+x-x=10$$\n",
    "$$x^3-4x^2+x=x+10$$\n",
    "$$4x^2+x=x-x^3+10$$\n",
    "$$x=x-x^3-4x^2+10$$\n",
    "Donc $ f(x)=g(x)$"
   ]
  },
  {
   "cell_type": "markdown",
   "id": "7d899b66",
   "metadata": {},
   "source": [
    "## Etudier théoriquement la convergences de g2 et g3"
   ]
  },
  {
   "cell_type": "code",
   "execution_count": 56,
   "id": "ba8ec95f",
   "metadata": {},
   "outputs": [],
   "source": [
    "f=lambda x:  x**3+4*x**2-10 # la fonction f\n",
    "g1=lambda x: 1/2*sqrt(10-x**3)\n",
    "g2=lambda x: sqrt(10/(x+4))\n",
    "g3=lambda x: x-x**3-4*x**2 + 10\n",
    "\n",
    "\n",
    "def ptfixe(g,x0,eps,nmax):\n",
    "    pass\n",
    "\n",
    "\n",
    "\n",
    "\n",
    "\n",
    "    print('pas de convergence avec le nombre d''iteration indique')\n"
   ]
  },
  {
   "cell_type": "code",
   "execution_count": 57,
   "id": "9162b20d",
   "metadata": {},
   "outputs": [
    {
     "name": "stdout",
     "output_type": "stream",
     "text": [
      "pas de convergence avec le nombre diteration indique\n"
     ]
    }
   ],
   "source": [
    "ptfixe(g3,1.5,0.0001,30)"
   ]
  },
  {
   "cell_type": "code",
   "execution_count": null,
   "id": "8cf51a2c",
   "metadata": {},
   "outputs": [],
   "source": []
  }
 ],
 "metadata": {
  "kernelspec": {
   "display_name": "Python 3 (ipykernel)",
   "language": "python",
   "name": "python3"
  },
  "language_info": {
   "codemirror_mode": {
    "name": "ipython",
    "version": 3
   },
   "file_extension": ".py",
   "mimetype": "text/x-python",
   "name": "python",
   "nbconvert_exporter": "python",
   "pygments_lexer": "ipython3",
   "version": "3.7.5"
  }
 },
 "nbformat": 4,
 "nbformat_minor": 5
}
